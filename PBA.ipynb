{
 "cells": [
  {
   "cell_type": "code",
   "execution_count": null,
   "metadata": {},
   "outputs": [
    {
     "name": "stdout",
     "output_type": "stream",
     "text": [
      "15\n"
     ]
    }
   ],
   "source": [
    "# Declaring variables- assigning values\n",
    "x = 5\n",
    "y = 10\n",
    "print(x + y)"
   ]
  },
  {
   "cell_type": "markdown",
   "metadata": {},
   "source": [
    "Functions - start with the keyword def\n",
    "- syntax  \n",
    "\n",
    "   def  function_name(): - function header  \n",
    "\n",
    "              ....  \n",
    "     \n",
    "   print(function_name()) - calls the function\n"
   ]
  },
  {
   "cell_type": "code",
   "execution_count": 2,
   "metadata": {},
   "outputs": [
    {
     "name": "stdout",
     "output_type": "stream",
     "text": [
      "50\n"
     ]
    }
   ],
   "source": [
    "def add_two_numbers(x,y):\n",
    "    z = x + y\n",
    "    return z\n",
    "print(add_two_numbers(30,20))"
   ]
  },
  {
   "cell_type": "code",
   "execution_count": 4,
   "metadata": {},
   "outputs": [
    {
     "name": "stdout",
     "output_type": "stream",
     "text": [
      "50\n"
     ]
    }
   ],
   "source": [
    "# lambda keyword- makes functions anonymous so that you don't have to declare them\n",
    "y = lambda x, y: x + y\n",
    "print(y(30,20))"
   ]
  },
  {
   "cell_type": "markdown",
   "metadata": {},
   "source": [
    "LISTS\n",
    "- ordered and changeable\n",
    "- represented by square brackets[ ]"
   ]
  },
  {
   "cell_type": "code",
   "execution_count": null,
   "metadata": {},
   "outputs": [],
   "source": []
  },
  {
   "cell_type": "markdown",
   "metadata": {},
   "source": [
    "DICTIONARIES\n",
    "- hold key-value pairs\n",
    "- are unordered and  changeable\n",
    "- initialized with { }"
   ]
  },
  {
   "cell_type": "code",
   "execution_count": null,
   "metadata": {},
   "outputs": [],
   "source": [
    "# dict= {\"keys\": values}\n",
    "my_dict={\"age\": 22, \"birth_year\":2009, \"name\": \"Denise\", \"county\": \"Nairobi\"}"
   ]
  },
  {
   "cell_type": "code",
   "execution_count": null,
   "metadata": {},
   "outputs": [
    {
     "data": {
      "text/plain": [
       "dict_keys(['age', 'birth_year', 'name', 'county'])"
      ]
     },
     "execution_count": 7,
     "metadata": {},
     "output_type": "execute_result"
    }
   ],
   "source": [
    "# dict.keys()- used to get all the keys from the dictionary\n",
    "my_dict.keys()"
   ]
  },
  {
   "cell_type": "code",
   "execution_count": 8,
   "metadata": {},
   "outputs": [
    {
     "data": {
      "text/plain": [
       "dict_values([22, 2009, 'Denise', 'Nairobi'])"
      ]
     },
     "execution_count": 8,
     "metadata": {},
     "output_type": "execute_result"
    }
   ],
   "source": [
    "# dict.values()- used to get all the values from the dictionary\n",
    "my_dict.values()"
   ]
  },
  {
   "cell_type": "markdown",
   "metadata": {},
   "source": [
    "SETS\n",
    "- unordered collection of unique elements i.e doesn't allow duplicates\n",
    "- allows operations like union, intersection and difference"
   ]
  },
  {
   "cell_type": "code",
   "execution_count": null,
   "metadata": {},
   "outputs": [],
   "source": []
  },
  {
   "cell_type": "markdown",
   "metadata": {},
   "source": [
    "CONTROL FLOW AND BUILT-IN-FUNCTIONS\n"
   ]
  },
  {
   "cell_type": "markdown",
   "metadata": {},
   "source": [
    "Contol Structures in Python\n",
    "- If-else construct\n",
    "- syntax\n",
    "-       if condition:\n",
    "-           statements\n",
    "-       elif condition:\n",
    "-           statements\n",
    "-       else:\n",
    "-           statements"
   ]
  },
  {
   "cell_type": "code",
   "execution_count": 14,
   "metadata": {},
   "outputs": [
    {
     "name": "stdout",
     "output_type": "stream",
     "text": [
      "Mid-life Crisis Averted\n",
      "None\n"
     ]
    }
   ],
   "source": [
    "def age_check(age):\n",
    "    if age >=40:\n",
    "        print(\"Mid-life Crisis Averted\")\n",
    "    elif age >= 30:\n",
    "        print(\"Mid-Life Crisis Onset\") \n",
    "    elif age >= 20:\n",
    "        print(\"Late Adolescence\")\n",
    "    else:\n",
    "        print(\"Invalid age\")\n",
    "\n",
    "print(age_check(75))"
   ]
  },
  {
   "cell_type": "markdown",
   "metadata": {},
   "source": [
    "For Construct\n",
    "-"
   ]
  },
  {
   "cell_type": "code",
   "execution_count": null,
   "metadata": {},
   "outputs": [
    {
     "name": "stdout",
     "output_type": "stream",
     "text": [
      "0 1 2 3 4 5 6 7 8 9 10 11 12 13 14 15 16 17 18 19 20 21 22 23 24 25 26 27 28 29 30 31 32 33 34 35 36 37 38 39 40 41 42 43 44 45 46 47 48 49 50 51 52 53 54 55 56 57 58 59 60 61 62 63 64 65 66 67 68 69 70 71 72 73 74 75 76 77 78 79 80 81 82 83 84 85 86 87 88 89 90 91 92 93 94 95 96 97 98 99 100 "
     ]
    }
   ],
   "source": [
    "for x in range (101):\n",
    "    x % 2 == 0\n",
    "    print(x, end = ' ')"
   ]
  },
  {
   "cell_type": "markdown",
   "metadata": {},
   "source": [
    "Built-in-functions\n",
    "The zip function\n",
    "- use cases\n",
    "-  1. combining two lists into a list of tuples\n",
    "-  2. breaking a tuple into  two lists"
   ]
  },
  {
   "cell_type": "code",
   "execution_count": 19,
   "metadata": {},
   "outputs": [
    {
     "data": {
      "text/plain": [
       "[(1, 'apple'), (2, 'banana'), (3, 'mango'), (4, 'orange'), (5, 'pear')]"
      ]
     },
     "execution_count": 19,
     "metadata": {},
     "output_type": "execute_result"
    }
   ],
   "source": [
    "# combining two lists into tuples\n",
    "number = [1,2,3,4,5]\n",
    "fruits = ['apple','banana','mango','orange','pear']\n",
    "\n",
    "list(zip(number,fruits))"
   ]
  },
  {
   "cell_type": "code",
   "execution_count": 22,
   "metadata": {},
   "outputs": [
    {
     "name": "stdout",
     "output_type": "stream",
     "text": [
      "(1, 2, 3, 4, 5)\n",
      "('apple', 'banana', 'mango', 'orange', 'pear')\n"
     ]
    }
   ],
   "source": [
    "# breaking a tuple into two lists\n",
    "zipped = [(1, 'apple'), (2, 'banana'), (3, 'mango'), (4, 'orange'), (5, 'pear')]\n",
    "number, fruit = zip(*zipped)\n",
    "\n",
    "print(number)\n",
    "print(fruit)"
   ]
  },
  {
   "cell_type": "markdown",
   "metadata": {},
   "source": [
    "Numpy\n",
    "Handling arrays with Numpy\n",
    "1. Single dimensional arrays\n",
    "2. Two dimensional arrays\n",
    " "
   ]
  },
  {
   "cell_type": "code",
   "execution_count": 2,
   "metadata": {},
   "outputs": [
    {
     "name": "stdout",
     "output_type": "stream",
     "text": [
      "[ 5 10 15 20 25]\n"
     ]
    }
   ],
   "source": [
    "import numpy as np\n",
    "\n",
    "# creating an array\n",
    "np_array = np.array([5,10,15,20,25])\n",
    "print(np_array)"
   ]
  },
  {
   "cell_type": "code",
   "execution_count": 3,
   "metadata": {},
   "outputs": [
    {
     "name": "stdout",
     "output_type": "stream",
     "text": [
      "[ 5 10 15 20 25]\n"
     ]
    }
   ],
   "source": [
    "# get unique values\n",
    "print(np.unique(np_array))"
   ]
  },
  {
   "cell_type": "code",
   "execution_count": 10,
   "metadata": {},
   "outputs": [
    {
     "name": "stdout",
     "output_type": "stream",
     "text": [
      "7.07\n"
     ]
    }
   ],
   "source": [
    "# get standard deviation\n",
    "print(round(np.std(np_array),2))\n"
   ]
  },
  {
   "cell_type": "code",
   "execution_count": 12,
   "metadata": {},
   "outputs": [
    {
     "name": "stdout",
     "output_type": "stream",
     "text": [
      "25\n",
      "5\n"
     ]
    }
   ],
   "source": [
    "# get max() and min()\n",
    "print(np_array.max())\n",
    "print(np_array.min())"
   ]
  },
  {
   "cell_type": "code",
   "execution_count": 14,
   "metadata": {},
   "outputs": [],
   "source": [
    "# 2d arrays\n",
    "np_arrays_2 = np.array([[1,2,3],\n",
    "                         [4,5,6]])"
   ]
  },
  {
   "cell_type": "code",
   "execution_count": 15,
   "metadata": {},
   "outputs": [
    {
     "name": "stdout",
     "output_type": "stream",
     "text": [
      "[[1 2 3]\n",
      " [4 5 6]]\n"
     ]
    }
   ],
   "source": [
    "print(np_arrays_2)"
   ]
  },
  {
   "cell_type": "code",
   "execution_count": null,
   "metadata": {},
   "outputs": [
    {
     "name": "stdout",
     "output_type": "stream",
     "text": [
      "[[1 4]\n",
      " [2 5]\n",
      " [3 6]]\n"
     ]
    }
   ],
   "source": [
    "# calculate the transpose\n",
    "# transpose is when you swap the columns and rows\n",
    "transpose = np_arrays_2.T\n",
    "print(transpose)"
   ]
  },
  {
   "cell_type": "code",
   "execution_count": 19,
   "metadata": {},
   "outputs": [
    {
     "name": "stdout",
     "output_type": "stream",
     "text": [
      "(2, 3)\n"
     ]
    }
   ],
   "source": [
    "# print the shape of the array\n",
    "print(np_arrays_2.shape)"
   ]
  },
  {
   "cell_type": "code",
   "execution_count": 21,
   "metadata": {},
   "outputs": [
    {
     "name": "stdout",
     "output_type": "stream",
     "text": [
      "5\n",
      "[[1 2 3]\n",
      " [4 5 6]] [0, 2]\n"
     ]
    }
   ],
   "source": [
    "# access elements in the array through indexing\n",
    "print(np_arrays_2[1,1])\n",
    "print(np_arrays_2,[0,2])"
   ]
  },
  {
   "cell_type": "code",
   "execution_count": 22,
   "metadata": {},
   "outputs": [
    {
     "name": "stdout",
     "output_type": "stream",
     "text": [
      "220\n"
     ]
    }
   ],
   "source": [
    "# calculating dot product\n",
    "np_array = np.array([2,4,6,8,10])\n",
    "dot_product = np.dot(np_array,np_array)\n",
    "print(dot_product)"
   ]
  },
  {
   "cell_type": "code",
   "execution_count": 24,
   "metadata": {},
   "outputs": [
    {
     "name": "stdout",
     "output_type": "stream",
     "text": [
      "[0 0 0]\n"
     ]
    }
   ],
   "source": [
    "np_array = np.array([2,4,6])\n",
    "cross_product = np.cross(np_array,np_array)\n",
    "print(cross_product)"
   ]
  },
  {
   "cell_type": "code",
   "execution_count": null,
   "metadata": {},
   "outputs": [
    {
     "name": "stdout",
     "output_type": "stream",
     "text": [
      "0.8122568311961746\n"
     ]
    }
   ],
   "source": [
    "# rand() function returns a random number or numbers between 0 and 1. The number of random values returned depends on the shape provided to the function. If no shape is given, just a single number is returned.\n",
    "# random number\n",
    "print(np.random.rand())"
   ]
  },
  {
   "cell_type": "code",
   "execution_count": 30,
   "metadata": {},
   "outputs": [
    {
     "name": "stdout",
     "output_type": "stream",
     "text": [
      "[[0.40780923 0.80096515]\n",
      " [0.12643011 0.78806531]\n",
      " [0.00487699 0.14357001]]\n"
     ]
    }
   ],
   "source": [
    "# generate a matrix of random numbers\n",
    "print(np.random.rand(3,2))"
   ]
  },
  {
   "cell_type": "code",
   "execution_count": null,
   "metadata": {},
   "outputs": [
    {
     "name": "stdout",
     "output_type": "stream",
     "text": [
      "[12  7]\n"
     ]
    }
   ],
   "source": [
    "# randint() to return random integers from low (inclusive) to high (exclusive)\n",
    "# generate 2 values between 5 and 15(exclusive)\n",
    "print(np.random.randint(5,15,2))"
   ]
  },
  {
   "cell_type": "code",
   "execution_count": null,
   "metadata": {},
   "outputs": [
    {
     "name": "stdout",
     "output_type": "stream",
     "text": [
      "[[11 14]\n",
      " [12 11]\n",
      " [ 9  8]]\n"
     ]
    }
   ],
   "source": [
    "# generate a matrix of shape(3,2) with values between 5 and 15(exclusive)\n",
    "print(np.random.randint(5,15, (3,2)))"
   ]
  },
  {
   "cell_type": "code",
   "execution_count": null,
   "metadata": {},
   "outputs": [
    {
     "name": "stdout",
     "output_type": "stream",
     "text": [
      "[2 4 2 2 2 4 6 2 2 4]\n"
     ]
    }
   ],
   "source": [
    "# choice() function allows you to pass an array,specify how many values to sample, and decide whether sampling should be done with or without replacement\n",
    "print(np.random.choice(np_array,10, replace = True))"
   ]
  },
  {
   "cell_type": "code",
   "execution_count": 35,
   "metadata": {},
   "outputs": [
    {
     "name": "stdout",
     "output_type": "stream",
     "text": [
      "[2 4 6]\n"
     ]
    }
   ],
   "source": [
    "print(np.random.choice(np_array,3, replace=False))"
   ]
  },
  {
   "cell_type": "code",
   "execution_count": 37,
   "metadata": {},
   "outputs": [
    {
     "name": "stdout",
     "output_type": "stream",
     "text": [
      "[5, 1, 2, 4, 3]\n"
     ]
    }
   ],
   "source": [
    "# shuffle() - randomly shuffle your array\n",
    "y = [1,2,3,4,5]\n",
    "np.random.shuffle(y)\n",
    "print(y)"
   ]
  },
  {
   "cell_type": "code",
   "execution_count": 38,
   "metadata": {},
   "outputs": [],
   "source": [
    "# seed() -used if you want the random selections to be the same every time\n",
    "np.random.seed(12)"
   ]
  },
  {
   "cell_type": "markdown",
   "metadata": {},
   "source": [
    "Scipy\n",
    "- Python library for scientific computing\n",
    "- A correlation is a numerical measure of the statistical relationship between two variables.\n",
    "- To calculate the correlation between two vectors of data use with Pearson’s r-value. This value ranges between -1 and 1. Where -1 means there is a total negative correlation, 0 means no correlation, and 1 means total positive."
   ]
  },
  {
   "cell_type": "code",
   "execution_count": 44,
   "metadata": {},
   "outputs": [
    {
     "name": "stdout",
     "output_type": "stream",
     "text": [
      "PearsonRResult(statistic=np.float64(1.0), pvalue=np.float64(0.0))\n"
     ]
    }
   ],
   "source": [
    "from scipy import stats\n",
    "import numpy as np\n",
    "\n",
    "array_1 = np.array([1,2,3,4,5,6])\n",
    "array_2 = array_1\n",
    "\n",
    "print(stats.pearsonr(array_1, array_2))"
   ]
  },
  {
   "cell_type": "code",
   "execution_count": null,
   "metadata": {},
   "outputs": [
    {
     "name": "stdout",
     "output_type": "stream",
     "text": [
      "[  4.72985831  -6.81425879   2.42439497 -17.00735634   7.53142834\n",
      " -15.3472134    0.05127078  -1.2022767   -8.06981879  28.71819395]\n"
     ]
    }
   ],
   "source": [
    "# Normal Distribution - \n",
    "x = stats.norm.rvs(loc=0, scale=10, size=10)\n",
    "print(x)\n",
    "\n",
    "# code above uses the loc parameter as the mean, the scale as the standard deviation, and the size as the number of samples to return."
   ]
  },
  {
   "cell_type": "code",
   "execution_count": 54,
   "metadata": {},
   "outputs": [
    {
     "name": "stdout",
     "output_type": "stream",
     "text": [
      "7.69459862670642e-24\n",
      "0.03989422804014327\n"
     ]
    }
   ],
   "source": [
    "# probability density function\n",
    "p1 = stats.norm.pdf(x=-100, loc=0, scale=10)\n",
    "p2 = stats.norm.pdf(x=0, loc=0, scale=10)\n",
    "\n",
    "print(p1)\n",
    "print(p2)"
   ]
  },
  {
   "cell_type": "code",
   "execution_count": null,
   "metadata": {},
   "outputs": [
    {
     "name": "stdout",
     "output_type": "stream",
     "text": [
      "0.5\n"
     ]
    }
   ],
   "source": [
    "#cumulative distribution function\n",
    "p1 = stats.norm.cdf(x=0, loc=0, scale=10)\n",
    "print(p1)"
   ]
  },
  {
   "cell_type": "code",
   "execution_count": null,
   "metadata": {},
   "outputs": [
    {
     "name": "stdout",
     "output_type": "stream",
     "text": [
      "DescribeResult(nobs=500, minmax=(np.float64(-3.14741652154398), np.float64(3.166556832560496)), mean=np.float64(-0.06456684264913627), variance=np.float64(1.000869122619677), skewness=np.float64(0.01994072341599204), kurtosis=np.float64(0.0543747243165571))\n"
     ]
    }
   ],
   "source": [
    "# describe() function - used to calculate multiple descriptive statistics for your array\n",
    "print(stats.describe(stats.norm.rvs(loc=0, scale=1, size=500)))\n",
    "\n",
    "# The variance is the square of the standard deviation. \n",
    "# The skewness is a measure of the asymmetry of the distribution. \n",
    "# The kurtosis is a measure of the “tailedness” of the distribution\n",
    "# A large value usually means there are more outliers."
   ]
  },
  {
   "cell_type": "markdown",
   "metadata": {},
   "source": [
    "- numpy.max(array) : Returns the maximum value from the array\n",
    "- numpy.std(array) : Returns the standard deviation among the values of array.\n",
    "- numpy.sum(array) : Returns the sum of all the values of array.\n",
    "- numpy.dot(array) : Returns the dot product of array with itself."
   ]
  },
  {
   "cell_type": "code",
   "execution_count": null,
   "metadata": {},
   "outputs": [],
   "source": []
  },
  {
   "cell_type": "code",
   "execution_count": null,
   "metadata": {},
   "outputs": [],
   "source": []
  }
 ],
 "metadata": {
  "kernelspec": {
   "display_name": "Python 3",
   "language": "python",
   "name": "python3"
  },
  "language_info": {
   "codemirror_mode": {
    "name": "ipython",
    "version": 3
   },
   "file_extension": ".py",
   "mimetype": "text/x-python",
   "name": "python",
   "nbconvert_exporter": "python",
   "pygments_lexer": "ipython3",
   "version": "3.13.2"
  }
 },
 "nbformat": 4,
 "nbformat_minor": 2
}
